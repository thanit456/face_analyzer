{
 "cells": [
  {
   "cell_type": "code",
   "execution_count": 2,
   "source": [
    "import plotly.express as px\n",
    "import plotly.graph_objects as go \n",
    "\n",
    "import pickle\n",
    "with open(f'results/current_face_heatmaps.pkl', 'rb') as f:\n",
    "    face_heatmaps = pickle.load(f)\n",
    "\n",
    "fig = go.Figure()\n",
    "\n",
    "buttons = [] \n",
    "visible_list = [False] * (len(face_heatmaps.keys()) + 1)\n",
    "\n",
    "\n",
    "for idx, (label, heatmap_data) in enumerate(face_heatmaps.items()):\n",
    "    fig.add_trace(go.Heatmap(z=face_heatmaps[label][::-1]))\n",
    "\n",
    "current_visible_list = visible_list.copy()\n",
    "current_visible_list[0] = True\n",
    "current_visible_list[idx+1] = True\n",
    "button = dict(\n",
    "    method='update',\n",
    "    label=label, \n",
    "    args=[{'visible': current_visible_list}]\n",
    ")\n",
    "buttons.append(button)\n",
    "\n",
    "fig.update_layout(\n",
    "    updatemenus=[\n",
    "        dict(\n",
    "            type = \"buttons\",\n",
    "            direction = \"left\",\n",
    "            buttons=buttons[::-1],\n",
    "            pad={\"l\":70, \"t\": -10},\n",
    "            showactive=True,\n",
    "            x=0.11,\n",
    "            xanchor=\"left\",\n",
    "            y=1.1,\n",
    "            yanchor=\"top\"\n",
    "        ),\n",
    "        \n",
    "    ], \n",
    "    width=500,\n",
    "    height=600\n",
    ")\n",
    "\n",
    "# Add annotation\n",
    "fig.update_layout(\n",
    "    annotations=[\n",
    "        dict(text=\"Segment type:\", showarrow=False,\n",
    "                            x=5, y=1.10, yref=\"paper\", align=\"left\")\n",
    "    ]\n",
    ")\n",
    "\n",
    "fig.show()"
   ],
   "outputs": [
    {
     "output_type": "display_data",
     "data": {
      "application/vnd.plotly.v1+json": {
       "config": {
        "plotlyServerURL": "https://plot.ly"
       },
       "data": [
        {
         "type": "heatmap",
         "z": [
          [
           0,
           0,
           0,
           0,
           0,
           0,
           0,
           0,
           0,
           0,
           0,
           0,
           0,
           0,
           0,
           0,
           0,
           0,
           0,
           0,
           0,
           0,
           0,
           0,
           0,
           0,
           0,
           0,
           0,
           0,
           0,
           0,
           0,
           0,
           0
          ],
          [
           0,
           0,
           0,
           0,
           0,
           0,
           0,
           0,
           0,
           0,
           0,
           0,
           0,
           0,
           0,
           0,
           0,
           0,
           0,
           0,
           0,
           0,
           0,
           0,
           0,
           0,
           0,
           0,
           0,
           0,
           0,
           0,
           0,
           0,
           0
          ],
          [
           0,
           0,
           0,
           0,
           0,
           0,
           0,
           0,
           0,
           0,
           0,
           0,
           0,
           0,
           0,
           0,
           0,
           0,
           0,
           0,
           0,
           0,
           0,
           0,
           0,
           0,
           0,
           0,
           0,
           0,
           0,
           0,
           0,
           0,
           0
          ],
          [
           0,
           0,
           0,
           0,
           0,
           0,
           0,
           0,
           0,
           0,
           0,
           0,
           0,
           0,
           0,
           0,
           0,
           0,
           0,
           0,
           0,
           0,
           0,
           0,
           0,
           0,
           0,
           0,
           0,
           0,
           0,
           0,
           0,
           0,
           0
          ],
          [
           0,
           0,
           0,
           0,
           0,
           0,
           0,
           0,
           0,
           0,
           0,
           0,
           0,
           0,
           0,
           0,
           0,
           0,
           0,
           0,
           0,
           0,
           0,
           0,
           0,
           0,
           0,
           0,
           0,
           0,
           0,
           0,
           0,
           0,
           0
          ],
          [
           0,
           0,
           0,
           0,
           0,
           0,
           0,
           0,
           0,
           0,
           0,
           0,
           0,
           0,
           0,
           0,
           0,
           0,
           0,
           0,
           0,
           0,
           0,
           0,
           0,
           0,
           0,
           0,
           0,
           0,
           0,
           0,
           0,
           0,
           0
          ],
          [
           0,
           0,
           0,
           0,
           0,
           0,
           0,
           0,
           0,
           0,
           0,
           0,
           0,
           0,
           0,
           0,
           0,
           0,
           0,
           0,
           0,
           0,
           0,
           0,
           0,
           0,
           0,
           0,
           0,
           0,
           0,
           0,
           0,
           0,
           0
          ],
          [
           0,
           0,
           0,
           0,
           0,
           0,
           0,
           0,
           0,
           0,
           0,
           0,
           0,
           0,
           0,
           0,
           0,
           0,
           0,
           0,
           0,
           0,
           0,
           0,
           0,
           0,
           0,
           0,
           0,
           0,
           0,
           0,
           0,
           0,
           0
          ],
          [
           0,
           0,
           0,
           0,
           0,
           1,
           1,
           0,
           0,
           0,
           0,
           0,
           0,
           0,
           0,
           0,
           0,
           0,
           0,
           0,
           0,
           0,
           0,
           0,
           0,
           0,
           0,
           0,
           1,
           1,
           1,
           0,
           0,
           0,
           0
          ],
          [
           0,
           0,
           0,
           1,
           1,
           2,
           2,
           1,
           0,
           0,
           0,
           0,
           0,
           0,
           0,
           0,
           0,
           0,
           0,
           0,
           0,
           0,
           0,
           0,
           0,
           0,
           0,
           0,
           1,
           1,
           1,
           0,
           0,
           0,
           0
          ],
          [
           0,
           0,
           0,
           1,
           1,
           3,
           3,
           2,
           0,
           0,
           0,
           0,
           0,
           0,
           0,
           0,
           0,
           0,
           0,
           0,
           0,
           0,
           0,
           0,
           0,
           0,
           0,
           0,
           1,
           1,
           1,
           1,
           0,
           0,
           0
          ],
          [
           0,
           1,
           1,
           2,
           3,
           3,
           3,
           2,
           1,
           0,
           0,
           0,
           0,
           0,
           0,
           0,
           0,
           0,
           0,
           0,
           0,
           0,
           0,
           0,
           0,
           0,
           0,
           0,
           1,
           1,
           1,
           2,
           1,
           0,
           0
          ],
          [
           0,
           1,
           1,
           2,
           4,
           4,
           3,
           2,
           1,
           0,
           0,
           0,
           0,
           0,
           0,
           0,
           0,
           0,
           0,
           0,
           0,
           0,
           0,
           0,
           0,
           0,
           1,
           1,
           1,
           1,
           2,
           2,
           1,
           0,
           0
          ],
          [
           0,
           1,
           1,
           2,
           4,
           4,
           3,
           2,
           2,
           0,
           0,
           0,
           0,
           0,
           0,
           0,
           0,
           0,
           0,
           0,
           0,
           0,
           0,
           0,
           0,
           1,
           2,
           2,
           3,
           2,
           3,
           2,
           1,
           0,
           0
          ],
          [
           1,
           1,
           1,
           3,
           4,
           4,
           4,
           2,
           2,
           0,
           0,
           0,
           0,
           0,
           0,
           0,
           0,
           0,
           0,
           0,
           0,
           0,
           0,
           0,
           1,
           1,
           2,
           2,
           4,
           4,
           5,
           2,
           1,
           0,
           0
          ],
          [
           1,
           1,
           1,
           3,
           6,
           6,
           4,
           3,
           2,
           0,
           0,
           0,
           0,
           0,
           0,
           0,
           0,
           0,
           0,
           0,
           0,
           0,
           0,
           0,
           1,
           1,
           2,
           3,
           4,
           4,
           5,
           4,
           1,
           0,
           0
          ],
          [
           1,
           1,
           1,
           5,
           6,
           6,
           4,
           4,
           3,
           0,
           0,
           0,
           0,
           0,
           0,
           0,
           0,
           0,
           0,
           0,
           0,
           0,
           0,
           0,
           0,
           1,
           2,
           4,
           5,
           5,
           6,
           4,
           3,
           0,
           0
          ],
          [
           1,
           1,
           1,
           6,
           6,
           5,
           3,
           3,
           1,
           0,
           0,
           0,
           0,
           0,
           0,
           0,
           0,
           0,
           0,
           0,
           0,
           0,
           0,
           0,
           0,
           1,
           3,
           3,
           4,
           6,
           6,
           4,
           3,
           0,
           0
          ],
          [
           0,
           1,
           1,
           5,
           6,
           4,
           3,
           2,
           1,
           0,
           0,
           0,
           0,
           0,
           0,
           0,
           0,
           0,
           0,
           0,
           0,
           0,
           0,
           0,
           0,
           0,
           2,
           2,
           4,
           6,
           6,
           4,
           3,
           0,
           0
          ],
          [
           0,
           0,
           1,
           3,
           4,
           2,
           2,
           2,
           1,
           0,
           0,
           0,
           0,
           0,
           0,
           0,
           0,
           0,
           0,
           0,
           0,
           0,
           0,
           0,
           0,
           0,
           1,
           1,
           3,
           6,
           6,
           3,
           1,
           0,
           0
          ],
          [
           0,
           0,
           1,
           1,
           2,
           2,
           1,
           1,
           0,
           0,
           0,
           0,
           0,
           0,
           0,
           0,
           0,
           0,
           0,
           0,
           0,
           0,
           0,
           0,
           0,
           0,
           0,
           0,
           2,
           4,
           3,
           2,
           0,
           0,
           0
          ],
          [
           0,
           0,
           1,
           1,
           1,
           1,
           1,
           1,
           0,
           0,
           0,
           0,
           0,
           0,
           0,
           0,
           0,
           0,
           0,
           0,
           0,
           0,
           0,
           0,
           0,
           0,
           0,
           0,
           1,
           3,
           2,
           1,
           0,
           0,
           0
          ],
          [
           0,
           0,
           0,
           0,
           0,
           0,
           0,
           0,
           0,
           0,
           0,
           0,
           0,
           0,
           0,
           0,
           0,
           0,
           0,
           0,
           0,
           0,
           0,
           0,
           0,
           0,
           0,
           0,
           0,
           0,
           1,
           0,
           0,
           0,
           0
          ],
          [
           0,
           0,
           0,
           0,
           0,
           0,
           0,
           0,
           0,
           0,
           0,
           0,
           0,
           0,
           0,
           0,
           0,
           0,
           0,
           0,
           0,
           0,
           0,
           0,
           0,
           0,
           0,
           0,
           0,
           0,
           0,
           0,
           0,
           0,
           0
          ],
          [
           0,
           0,
           0,
           0,
           0,
           0,
           0,
           0,
           0,
           0,
           0,
           0,
           0,
           0,
           0,
           0,
           0,
           0,
           0,
           0,
           0,
           0,
           0,
           0,
           0,
           0,
           0,
           0,
           0,
           0,
           0,
           0,
           0,
           0,
           0
          ],
          [
           0,
           0,
           0,
           0,
           0,
           0,
           0,
           0,
           0,
           0,
           0,
           0,
           0,
           0,
           0,
           0,
           0,
           0,
           0,
           0,
           0,
           0,
           0,
           0,
           0,
           0,
           0,
           0,
           0,
           0,
           0,
           0,
           0,
           0,
           0
          ],
          [
           0,
           0,
           0,
           0,
           0,
           0,
           0,
           0,
           0,
           0,
           0,
           0,
           0,
           0,
           0,
           0,
           0,
           0,
           0,
           0,
           0,
           0,
           0,
           0,
           0,
           0,
           0,
           0,
           0,
           0,
           0,
           0,
           0,
           0,
           0
          ],
          [
           0,
           0,
           0,
           0,
           0,
           0,
           0,
           0,
           0,
           0,
           0,
           0,
           0,
           0,
           0,
           0,
           0,
           0,
           0,
           0,
           0,
           0,
           0,
           0,
           0,
           0,
           0,
           0,
           0,
           0,
           0,
           0,
           0,
           0,
           0
          ],
          [
           0,
           0,
           0,
           0,
           0,
           0,
           0,
           0,
           0,
           0,
           0,
           0,
           0,
           0,
           0,
           0,
           0,
           0,
           0,
           0,
           0,
           0,
           0,
           0,
           0,
           0,
           0,
           0,
           0,
           0,
           0,
           0,
           0,
           0,
           0
          ],
          [
           0,
           0,
           0,
           0,
           0,
           0,
           0,
           0,
           0,
           0,
           0,
           0,
           0,
           0,
           0,
           0,
           0,
           0,
           0,
           0,
           0,
           0,
           0,
           0,
           0,
           0,
           0,
           0,
           0,
           0,
           0,
           0,
           0,
           0,
           0
          ],
          [
           0,
           0,
           0,
           0,
           0,
           0,
           0,
           0,
           0,
           0,
           0,
           0,
           0,
           0,
           0,
           0,
           0,
           0,
           0,
           0,
           0,
           0,
           0,
           0,
           0,
           0,
           0,
           0,
           0,
           0,
           0,
           0,
           0,
           0,
           0
          ],
          [
           0,
           0,
           0,
           0,
           0,
           0,
           0,
           0,
           0,
           0,
           0,
           0,
           0,
           0,
           0,
           0,
           0,
           0,
           0,
           0,
           0,
           0,
           0,
           0,
           0,
           0,
           0,
           0,
           0,
           0,
           0,
           0,
           0,
           0,
           0
          ],
          [
           0,
           0,
           0,
           0,
           0,
           0,
           0,
           0,
           0,
           0,
           0,
           0,
           0,
           0,
           0,
           0,
           0,
           0,
           0,
           0,
           0,
           0,
           0,
           0,
           0,
           0,
           0,
           0,
           0,
           0,
           0,
           0,
           0,
           0,
           0
          ],
          [
           0,
           0,
           0,
           0,
           0,
           0,
           0,
           0,
           0,
           0,
           0,
           0,
           0,
           0,
           0,
           0,
           0,
           0,
           0,
           0,
           0,
           0,
           0,
           0,
           0,
           0,
           0,
           0,
           0,
           0,
           0,
           0,
           0,
           0,
           0
          ],
          [
           0,
           0,
           0,
           0,
           0,
           0,
           0,
           0,
           0,
           0,
           0,
           0,
           0,
           0,
           0,
           0,
           0,
           0,
           0,
           0,
           0,
           0,
           0,
           0,
           0,
           0,
           0,
           0,
           0,
           0,
           0,
           0,
           0,
           0,
           0
          ],
          [
           0,
           0,
           0,
           0,
           0,
           0,
           0,
           0,
           0,
           0,
           0,
           0,
           0,
           0,
           0,
           0,
           0,
           0,
           0,
           0,
           0,
           0,
           0,
           0,
           0,
           0,
           0,
           0,
           0,
           0,
           0,
           0,
           0,
           0,
           0
          ],
          [
           0,
           0,
           0,
           0,
           0,
           0,
           0,
           0,
           0,
           0,
           0,
           0,
           0,
           0,
           0,
           0,
           0,
           0,
           0,
           0,
           0,
           0,
           0,
           0,
           0,
           0,
           0,
           0,
           0,
           0,
           0,
           0,
           0,
           0,
           0
          ]
         ]
        }
       ],
       "layout": {
        "annotations": [
         {
          "align": "left",
          "showarrow": false,
          "text": "Segment type:",
          "x": 5,
          "y": 1.1,
          "yref": "paper"
         }
        ],
        "height": 600,
        "template": {
         "data": {
          "bar": [
           {
            "error_x": {
             "color": "#2a3f5f"
            },
            "error_y": {
             "color": "#2a3f5f"
            },
            "marker": {
             "line": {
              "color": "#E5ECF6",
              "width": 0.5
             },
             "pattern": {
              "fillmode": "overlay",
              "size": 10,
              "solidity": 0.2
             }
            },
            "type": "bar"
           }
          ],
          "barpolar": [
           {
            "marker": {
             "line": {
              "color": "#E5ECF6",
              "width": 0.5
             },
             "pattern": {
              "fillmode": "overlay",
              "size": 10,
              "solidity": 0.2
             }
            },
            "type": "barpolar"
           }
          ],
          "carpet": [
           {
            "aaxis": {
             "endlinecolor": "#2a3f5f",
             "gridcolor": "white",
             "linecolor": "white",
             "minorgridcolor": "white",
             "startlinecolor": "#2a3f5f"
            },
            "baxis": {
             "endlinecolor": "#2a3f5f",
             "gridcolor": "white",
             "linecolor": "white",
             "minorgridcolor": "white",
             "startlinecolor": "#2a3f5f"
            },
            "type": "carpet"
           }
          ],
          "choropleth": [
           {
            "colorbar": {
             "outlinewidth": 0,
             "ticks": ""
            },
            "type": "choropleth"
           }
          ],
          "contour": [
           {
            "colorbar": {
             "outlinewidth": 0,
             "ticks": ""
            },
            "colorscale": [
             [
              0,
              "#0d0887"
             ],
             [
              0.1111111111111111,
              "#46039f"
             ],
             [
              0.2222222222222222,
              "#7201a8"
             ],
             [
              0.3333333333333333,
              "#9c179e"
             ],
             [
              0.4444444444444444,
              "#bd3786"
             ],
             [
              0.5555555555555556,
              "#d8576b"
             ],
             [
              0.6666666666666666,
              "#ed7953"
             ],
             [
              0.7777777777777778,
              "#fb9f3a"
             ],
             [
              0.8888888888888888,
              "#fdca26"
             ],
             [
              1,
              "#f0f921"
             ]
            ],
            "type": "contour"
           }
          ],
          "contourcarpet": [
           {
            "colorbar": {
             "outlinewidth": 0,
             "ticks": ""
            },
            "type": "contourcarpet"
           }
          ],
          "heatmap": [
           {
            "colorbar": {
             "outlinewidth": 0,
             "ticks": ""
            },
            "colorscale": [
             [
              0,
              "#0d0887"
             ],
             [
              0.1111111111111111,
              "#46039f"
             ],
             [
              0.2222222222222222,
              "#7201a8"
             ],
             [
              0.3333333333333333,
              "#9c179e"
             ],
             [
              0.4444444444444444,
              "#bd3786"
             ],
             [
              0.5555555555555556,
              "#d8576b"
             ],
             [
              0.6666666666666666,
              "#ed7953"
             ],
             [
              0.7777777777777778,
              "#fb9f3a"
             ],
             [
              0.8888888888888888,
              "#fdca26"
             ],
             [
              1,
              "#f0f921"
             ]
            ],
            "type": "heatmap"
           }
          ],
          "heatmapgl": [
           {
            "colorbar": {
             "outlinewidth": 0,
             "ticks": ""
            },
            "colorscale": [
             [
              0,
              "#0d0887"
             ],
             [
              0.1111111111111111,
              "#46039f"
             ],
             [
              0.2222222222222222,
              "#7201a8"
             ],
             [
              0.3333333333333333,
              "#9c179e"
             ],
             [
              0.4444444444444444,
              "#bd3786"
             ],
             [
              0.5555555555555556,
              "#d8576b"
             ],
             [
              0.6666666666666666,
              "#ed7953"
             ],
             [
              0.7777777777777778,
              "#fb9f3a"
             ],
             [
              0.8888888888888888,
              "#fdca26"
             ],
             [
              1,
              "#f0f921"
             ]
            ],
            "type": "heatmapgl"
           }
          ],
          "histogram": [
           {
            "marker": {
             "pattern": {
              "fillmode": "overlay",
              "size": 10,
              "solidity": 0.2
             }
            },
            "type": "histogram"
           }
          ],
          "histogram2d": [
           {
            "colorbar": {
             "outlinewidth": 0,
             "ticks": ""
            },
            "colorscale": [
             [
              0,
              "#0d0887"
             ],
             [
              0.1111111111111111,
              "#46039f"
             ],
             [
              0.2222222222222222,
              "#7201a8"
             ],
             [
              0.3333333333333333,
              "#9c179e"
             ],
             [
              0.4444444444444444,
              "#bd3786"
             ],
             [
              0.5555555555555556,
              "#d8576b"
             ],
             [
              0.6666666666666666,
              "#ed7953"
             ],
             [
              0.7777777777777778,
              "#fb9f3a"
             ],
             [
              0.8888888888888888,
              "#fdca26"
             ],
             [
              1,
              "#f0f921"
             ]
            ],
            "type": "histogram2d"
           }
          ],
          "histogram2dcontour": [
           {
            "colorbar": {
             "outlinewidth": 0,
             "ticks": ""
            },
            "colorscale": [
             [
              0,
              "#0d0887"
             ],
             [
              0.1111111111111111,
              "#46039f"
             ],
             [
              0.2222222222222222,
              "#7201a8"
             ],
             [
              0.3333333333333333,
              "#9c179e"
             ],
             [
              0.4444444444444444,
              "#bd3786"
             ],
             [
              0.5555555555555556,
              "#d8576b"
             ],
             [
              0.6666666666666666,
              "#ed7953"
             ],
             [
              0.7777777777777778,
              "#fb9f3a"
             ],
             [
              0.8888888888888888,
              "#fdca26"
             ],
             [
              1,
              "#f0f921"
             ]
            ],
            "type": "histogram2dcontour"
           }
          ],
          "mesh3d": [
           {
            "colorbar": {
             "outlinewidth": 0,
             "ticks": ""
            },
            "type": "mesh3d"
           }
          ],
          "parcoords": [
           {
            "line": {
             "colorbar": {
              "outlinewidth": 0,
              "ticks": ""
             }
            },
            "type": "parcoords"
           }
          ],
          "pie": [
           {
            "automargin": true,
            "type": "pie"
           }
          ],
          "scatter": [
           {
            "marker": {
             "colorbar": {
              "outlinewidth": 0,
              "ticks": ""
             }
            },
            "type": "scatter"
           }
          ],
          "scatter3d": [
           {
            "line": {
             "colorbar": {
              "outlinewidth": 0,
              "ticks": ""
             }
            },
            "marker": {
             "colorbar": {
              "outlinewidth": 0,
              "ticks": ""
             }
            },
            "type": "scatter3d"
           }
          ],
          "scattercarpet": [
           {
            "marker": {
             "colorbar": {
              "outlinewidth": 0,
              "ticks": ""
             }
            },
            "type": "scattercarpet"
           }
          ],
          "scattergeo": [
           {
            "marker": {
             "colorbar": {
              "outlinewidth": 0,
              "ticks": ""
             }
            },
            "type": "scattergeo"
           }
          ],
          "scattergl": [
           {
            "marker": {
             "colorbar": {
              "outlinewidth": 0,
              "ticks": ""
             }
            },
            "type": "scattergl"
           }
          ],
          "scattermapbox": [
           {
            "marker": {
             "colorbar": {
              "outlinewidth": 0,
              "ticks": ""
             }
            },
            "type": "scattermapbox"
           }
          ],
          "scatterpolar": [
           {
            "marker": {
             "colorbar": {
              "outlinewidth": 0,
              "ticks": ""
             }
            },
            "type": "scatterpolar"
           }
          ],
          "scatterpolargl": [
           {
            "marker": {
             "colorbar": {
              "outlinewidth": 0,
              "ticks": ""
             }
            },
            "type": "scatterpolargl"
           }
          ],
          "scatterternary": [
           {
            "marker": {
             "colorbar": {
              "outlinewidth": 0,
              "ticks": ""
             }
            },
            "type": "scatterternary"
           }
          ],
          "surface": [
           {
            "colorbar": {
             "outlinewidth": 0,
             "ticks": ""
            },
            "colorscale": [
             [
              0,
              "#0d0887"
             ],
             [
              0.1111111111111111,
              "#46039f"
             ],
             [
              0.2222222222222222,
              "#7201a8"
             ],
             [
              0.3333333333333333,
              "#9c179e"
             ],
             [
              0.4444444444444444,
              "#bd3786"
             ],
             [
              0.5555555555555556,
              "#d8576b"
             ],
             [
              0.6666666666666666,
              "#ed7953"
             ],
             [
              0.7777777777777778,
              "#fb9f3a"
             ],
             [
              0.8888888888888888,
              "#fdca26"
             ],
             [
              1,
              "#f0f921"
             ]
            ],
            "type": "surface"
           }
          ],
          "table": [
           {
            "cells": {
             "fill": {
              "color": "#EBF0F8"
             },
             "line": {
              "color": "white"
             }
            },
            "header": {
             "fill": {
              "color": "#C8D4E3"
             },
             "line": {
              "color": "white"
             }
            },
            "type": "table"
           }
          ]
         },
         "layout": {
          "annotationdefaults": {
           "arrowcolor": "#2a3f5f",
           "arrowhead": 0,
           "arrowwidth": 1
          },
          "autotypenumbers": "strict",
          "coloraxis": {
           "colorbar": {
            "outlinewidth": 0,
            "ticks": ""
           }
          },
          "colorscale": {
           "diverging": [
            [
             0,
             "#8e0152"
            ],
            [
             0.1,
             "#c51b7d"
            ],
            [
             0.2,
             "#de77ae"
            ],
            [
             0.3,
             "#f1b6da"
            ],
            [
             0.4,
             "#fde0ef"
            ],
            [
             0.5,
             "#f7f7f7"
            ],
            [
             0.6,
             "#e6f5d0"
            ],
            [
             0.7,
             "#b8e186"
            ],
            [
             0.8,
             "#7fbc41"
            ],
            [
             0.9,
             "#4d9221"
            ],
            [
             1,
             "#276419"
            ]
           ],
           "sequential": [
            [
             0,
             "#0d0887"
            ],
            [
             0.1111111111111111,
             "#46039f"
            ],
            [
             0.2222222222222222,
             "#7201a8"
            ],
            [
             0.3333333333333333,
             "#9c179e"
            ],
            [
             0.4444444444444444,
             "#bd3786"
            ],
            [
             0.5555555555555556,
             "#d8576b"
            ],
            [
             0.6666666666666666,
             "#ed7953"
            ],
            [
             0.7777777777777778,
             "#fb9f3a"
            ],
            [
             0.8888888888888888,
             "#fdca26"
            ],
            [
             1,
             "#f0f921"
            ]
           ],
           "sequentialminus": [
            [
             0,
             "#0d0887"
            ],
            [
             0.1111111111111111,
             "#46039f"
            ],
            [
             0.2222222222222222,
             "#7201a8"
            ],
            [
             0.3333333333333333,
             "#9c179e"
            ],
            [
             0.4444444444444444,
             "#bd3786"
            ],
            [
             0.5555555555555556,
             "#d8576b"
            ],
            [
             0.6666666666666666,
             "#ed7953"
            ],
            [
             0.7777777777777778,
             "#fb9f3a"
            ],
            [
             0.8888888888888888,
             "#fdca26"
            ],
            [
             1,
             "#f0f921"
            ]
           ]
          },
          "colorway": [
           "#636efa",
           "#EF553B",
           "#00cc96",
           "#ab63fa",
           "#FFA15A",
           "#19d3f3",
           "#FF6692",
           "#B6E880",
           "#FF97FF",
           "#FECB52"
          ],
          "font": {
           "color": "#2a3f5f"
          },
          "geo": {
           "bgcolor": "white",
           "lakecolor": "white",
           "landcolor": "#E5ECF6",
           "showlakes": true,
           "showland": true,
           "subunitcolor": "white"
          },
          "hoverlabel": {
           "align": "left"
          },
          "hovermode": "closest",
          "mapbox": {
           "style": "light"
          },
          "paper_bgcolor": "white",
          "plot_bgcolor": "#E5ECF6",
          "polar": {
           "angularaxis": {
            "gridcolor": "white",
            "linecolor": "white",
            "ticks": ""
           },
           "bgcolor": "#E5ECF6",
           "radialaxis": {
            "gridcolor": "white",
            "linecolor": "white",
            "ticks": ""
           }
          },
          "scene": {
           "xaxis": {
            "backgroundcolor": "#E5ECF6",
            "gridcolor": "white",
            "gridwidth": 2,
            "linecolor": "white",
            "showbackground": true,
            "ticks": "",
            "zerolinecolor": "white"
           },
           "yaxis": {
            "backgroundcolor": "#E5ECF6",
            "gridcolor": "white",
            "gridwidth": 2,
            "linecolor": "white",
            "showbackground": true,
            "ticks": "",
            "zerolinecolor": "white"
           },
           "zaxis": {
            "backgroundcolor": "#E5ECF6",
            "gridcolor": "white",
            "gridwidth": 2,
            "linecolor": "white",
            "showbackground": true,
            "ticks": "",
            "zerolinecolor": "white"
           }
          },
          "shapedefaults": {
           "line": {
            "color": "#2a3f5f"
           }
          },
          "ternary": {
           "aaxis": {
            "gridcolor": "white",
            "linecolor": "white",
            "ticks": ""
           },
           "baxis": {
            "gridcolor": "white",
            "linecolor": "white",
            "ticks": ""
           },
           "bgcolor": "#E5ECF6",
           "caxis": {
            "gridcolor": "white",
            "linecolor": "white",
            "ticks": ""
           }
          },
          "title": {
           "x": 0.05
          },
          "xaxis": {
           "automargin": true,
           "gridcolor": "white",
           "linecolor": "white",
           "ticks": "",
           "title": {
            "standoff": 15
           },
           "zerolinecolor": "white",
           "zerolinewidth": 2
          },
          "yaxis": {
           "automargin": true,
           "gridcolor": "white",
           "linecolor": "white",
           "ticks": "",
           "title": {
            "standoff": 15
           },
           "zerolinecolor": "white",
           "zerolinewidth": 2
          }
         }
        },
        "updatemenus": [
         {
          "buttons": [
           {
            "args": [
             {
              "visible": [
               true,
               true
              ]
             }
            ],
            "label": "hori nevus",
            "method": "update"
           }
          ],
          "direction": "left",
          "pad": {
           "l": 70,
           "t": -10
          },
          "showactive": true,
          "type": "buttons",
          "x": 0.11,
          "xanchor": "left",
          "y": 1.1,
          "yanchor": "top"
         }
        ],
        "width": 500
       }
      }
     },
     "metadata": {}
    }
   ],
   "metadata": {}
  },
  {
   "cell_type": "code",
   "execution_count": 4,
   "source": [
    "import cv2 \n",
    "import matplotlib.pyplot as plt \n",
    "\n",
    "img = cv2.imread(f'gt/64_1.jpg') \n",
    "plt.imshow(img)\n",
    "plt.show()"
   ],
   "outputs": [
    {
     "output_type": "display_data",
     "data": {
      "text/plain": [
       "<Figure size 432x288 with 1 Axes>"
      ],
      "image/svg+xml": "<?xml version=\"1.0\" encoding=\"utf-8\" standalone=\"no\"?>\n<!DOCTYPE svg PUBLIC \"-//W3C//DTD SVG 1.1//EN\"\n  \"http://www.w3.org/Graphics/SVG/1.1/DTD/svg11.dtd\">\n<svg height=\"252.289644pt\" version=\"1.1\" viewBox=\"0 0 238.307997 252.289644\" width=\"238.307997pt\" xmlns=\"http://www.w3.org/2000/svg\" xmlns:xlink=\"http://www.w3.org/1999/xlink\">\n <metadata>\n  <rdf:RDF xmlns:cc=\"http://creativecommons.org/ns#\" xmlns:dc=\"http://purl.org/dc/elements/1.1/\" xmlns:rdf=\"http://www.w3.org/1999/02/22-rdf-syntax-ns#\">\n   <cc:Work>\n    <dc:type rdf:resource=\"http://purl.org/dc/dcmitype/StillImage\"/>\n    <dc:date>2021-10-25T22:32:51.813986</dc:date>\n    <dc:format>image/svg+xml</dc:format>\n    <dc:creator>\n     <cc:Agent>\n      <dc:title>Matplotlib v3.4.2, https://matplotlib.org/</dc:title>\n     </cc:Agent>\n    </dc:creator>\n   </cc:Work>\n  </rdf:RDF>\n </metadata>\n <defs>\n  <style type=\"text/css\">*{stroke-linecap:butt;stroke-linejoin:round;}</style>\n </defs>\n <g id=\"figure_1\">\n  <g id=\"patch_1\">\n   <path d=\"M 0 252.289644 \nL 238.307997 252.289644 \nL 238.307997 0 \nL 0 0 \nz\n\" style=\"fill:none;\"/>\n  </g>\n  <g id=\"axes_1\">\n   <g id=\"patch_2\">\n    <path d=\"M 39.65 228.411519 \nL 231.107997 228.411519 \nL 231.107997 10.971519 \nL 39.65 10.971519 \nz\n\" style=\"fill:#ffffff;\"/>\n   </g>\n   <g clip-path=\"url(#pb43b103668)\">\n    <image height=\"218\" id=\"image7c2173800d\" transform=\"scale(1 -1)translate(0 -218)\" width=\"192\" x=\"39.65\" xlink:href=\"data:image/png;base64,\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\" y=\"-10.411519\"/>\n   </g>\n   <g id=\"matplotlib.axis_1\">\n    <g id=\"xtick_1\">\n     <g id=\"line2d_1\">\n      <defs>\n       <path d=\"M 0 0 \nL 0 3.5 \n\" id=\"mcfa220cf52\" style=\"stroke:#000000;stroke-width:0.8;\"/>\n      </defs>\n      <g>\n       <use style=\"stroke:#000000;stroke-width:0.8;\" x=\"39.677699\" xlink:href=\"#mcfa220cf52\" y=\"228.411519\"/>\n      </g>\n     </g>\n     <g id=\"text_1\">\n      <!-- 0 -->\n      <g transform=\"translate(36.496449 243.009957)scale(0.1 -0.1)\">\n       <defs>\n        <path d=\"M 2034 4250 \nQ 1547 4250 1301 3770 \nQ 1056 3291 1056 2328 \nQ 1056 1369 1301 889 \nQ 1547 409 2034 409 \nQ 2525 409 2770 889 \nQ 3016 1369 3016 2328 \nQ 3016 3291 2770 3770 \nQ 2525 4250 2034 4250 \nz\nM 2034 4750 \nQ 2819 4750 3233 4129 \nQ 3647 3509 3647 2328 \nQ 3647 1150 3233 529 \nQ 2819 -91 2034 -91 \nQ 1250 -91 836 529 \nQ 422 1150 422 2328 \nQ 422 3509 836 4129 \nQ 1250 4750 2034 4750 \nz\n\" id=\"DejaVuSans-30\" transform=\"scale(0.015625)\"/>\n       </defs>\n       <use xlink:href=\"#DejaVuSans-30\"/>\n      </g>\n     </g>\n    </g>\n    <g id=\"xtick_2\">\n     <g id=\"line2d_2\">\n      <g>\n       <use style=\"stroke:#000000;stroke-width:0.8;\" x=\"95.076425\" xlink:href=\"#mcfa220cf52\" y=\"228.411519\"/>\n      </g>\n     </g>\n     <g id=\"text_2\">\n      <!-- 1000 -->\n      <g transform=\"translate(82.351425 243.009957)scale(0.1 -0.1)\">\n       <defs>\n        <path d=\"M 794 531 \nL 1825 531 \nL 1825 4091 \nL 703 3866 \nL 703 4441 \nL 1819 4666 \nL 2450 4666 \nL 2450 531 \nL 3481 531 \nL 3481 0 \nL 794 0 \nL 794 531 \nz\n\" id=\"DejaVuSans-31\" transform=\"scale(0.015625)\"/>\n       </defs>\n       <use xlink:href=\"#DejaVuSans-31\"/>\n       <use x=\"63.623047\" xlink:href=\"#DejaVuSans-30\"/>\n       <use x=\"127.246094\" xlink:href=\"#DejaVuSans-30\"/>\n       <use x=\"190.869141\" xlink:href=\"#DejaVuSans-30\"/>\n      </g>\n     </g>\n    </g>\n    <g id=\"xtick_3\">\n     <g id=\"line2d_3\">\n      <g>\n       <use style=\"stroke:#000000;stroke-width:0.8;\" x=\"150.475152\" xlink:href=\"#mcfa220cf52\" y=\"228.411519\"/>\n      </g>\n     </g>\n     <g id=\"text_3\">\n      <!-- 2000 -->\n      <g transform=\"translate(137.750152 243.009957)scale(0.1 -0.1)\">\n       <defs>\n        <path d=\"M 1228 531 \nL 3431 531 \nL 3431 0 \nL 469 0 \nL 469 531 \nQ 828 903 1448 1529 \nQ 2069 2156 2228 2338 \nQ 2531 2678 2651 2914 \nQ 2772 3150 2772 3378 \nQ 2772 3750 2511 3984 \nQ 2250 4219 1831 4219 \nQ 1534 4219 1204 4116 \nQ 875 4013 500 3803 \nL 500 4441 \nQ 881 4594 1212 4672 \nQ 1544 4750 1819 4750 \nQ 2544 4750 2975 4387 \nQ 3406 4025 3406 3419 \nQ 3406 3131 3298 2873 \nQ 3191 2616 2906 2266 \nQ 2828 2175 2409 1742 \nQ 1991 1309 1228 531 \nz\n\" id=\"DejaVuSans-32\" transform=\"scale(0.015625)\"/>\n       </defs>\n       <use xlink:href=\"#DejaVuSans-32\"/>\n       <use x=\"63.623047\" xlink:href=\"#DejaVuSans-30\"/>\n       <use x=\"127.246094\" xlink:href=\"#DejaVuSans-30\"/>\n       <use x=\"190.869141\" xlink:href=\"#DejaVuSans-30\"/>\n      </g>\n     </g>\n    </g>\n    <g id=\"xtick_4\">\n     <g id=\"line2d_4\">\n      <g>\n       <use style=\"stroke:#000000;stroke-width:0.8;\" x=\"205.873878\" xlink:href=\"#mcfa220cf52\" y=\"228.411519\"/>\n      </g>\n     </g>\n     <g id=\"text_4\">\n      <!-- 3000 -->\n      <g transform=\"translate(193.148878 243.009957)scale(0.1 -0.1)\">\n       <defs>\n        <path d=\"M 2597 2516 \nQ 3050 2419 3304 2112 \nQ 3559 1806 3559 1356 \nQ 3559 666 3084 287 \nQ 2609 -91 1734 -91 \nQ 1441 -91 1130 -33 \nQ 819 25 488 141 \nL 488 750 \nQ 750 597 1062 519 \nQ 1375 441 1716 441 \nQ 2309 441 2620 675 \nQ 2931 909 2931 1356 \nQ 2931 1769 2642 2001 \nQ 2353 2234 1838 2234 \nL 1294 2234 \nL 1294 2753 \nL 1863 2753 \nQ 2328 2753 2575 2939 \nQ 2822 3125 2822 3475 \nQ 2822 3834 2567 4026 \nQ 2313 4219 1838 4219 \nQ 1578 4219 1281 4162 \nQ 984 4106 628 3988 \nL 628 4550 \nQ 988 4650 1302 4700 \nQ 1616 4750 1894 4750 \nQ 2613 4750 3031 4423 \nQ 3450 4097 3450 3541 \nQ 3450 3153 3228 2886 \nQ 3006 2619 2597 2516 \nz\n\" id=\"DejaVuSans-33\" transform=\"scale(0.015625)\"/>\n       </defs>\n       <use xlink:href=\"#DejaVuSans-33\"/>\n       <use x=\"63.623047\" xlink:href=\"#DejaVuSans-30\"/>\n       <use x=\"127.246094\" xlink:href=\"#DejaVuSans-30\"/>\n       <use x=\"190.869141\" xlink:href=\"#DejaVuSans-30\"/>\n      </g>\n     </g>\n    </g>\n   </g>\n   <g id=\"matplotlib.axis_2\">\n    <g id=\"ytick_1\">\n     <g id=\"line2d_5\">\n      <defs>\n       <path d=\"M 0 0 \nL -3.5 0 \n\" id=\"m25c92a6336\" style=\"stroke:#000000;stroke-width:0.8;\"/>\n      </defs>\n      <g>\n       <use style=\"stroke:#000000;stroke-width:0.8;\" x=\"39.65\" xlink:href=\"#m25c92a6336\" y=\"10.999219\"/>\n      </g>\n     </g>\n     <g id=\"text_5\">\n      <!-- 0 -->\n      <g transform=\"translate(26.2875 14.798437)scale(0.1 -0.1)\">\n       <use xlink:href=\"#DejaVuSans-30\"/>\n      </g>\n     </g>\n    </g>\n    <g id=\"ytick_2\">\n     <g id=\"line2d_6\">\n      <g>\n       <use style=\"stroke:#000000;stroke-width:0.8;\" x=\"39.65\" xlink:href=\"#m25c92a6336\" y=\"38.698582\"/>\n      </g>\n     </g>\n     <g id=\"text_6\">\n      <!-- 500 -->\n      <g transform=\"translate(13.5625 42.497801)scale(0.1 -0.1)\">\n       <defs>\n        <path d=\"M 691 4666 \nL 3169 4666 \nL 3169 4134 \nL 1269 4134 \nL 1269 2991 \nQ 1406 3038 1543 3061 \nQ 1681 3084 1819 3084 \nQ 2600 3084 3056 2656 \nQ 3513 2228 3513 1497 \nQ 3513 744 3044 326 \nQ 2575 -91 1722 -91 \nQ 1428 -91 1123 -41 \nQ 819 9 494 109 \nL 494 744 \nQ 775 591 1075 516 \nQ 1375 441 1709 441 \nQ 2250 441 2565 725 \nQ 2881 1009 2881 1497 \nQ 2881 1984 2565 2268 \nQ 2250 2553 1709 2553 \nQ 1456 2553 1204 2497 \nQ 953 2441 691 2322 \nL 691 4666 \nz\n\" id=\"DejaVuSans-35\" transform=\"scale(0.015625)\"/>\n       </defs>\n       <use xlink:href=\"#DejaVuSans-35\"/>\n       <use x=\"63.623047\" xlink:href=\"#DejaVuSans-30\"/>\n       <use x=\"127.246094\" xlink:href=\"#DejaVuSans-30\"/>\n      </g>\n     </g>\n    </g>\n    <g id=\"ytick_3\">\n     <g id=\"line2d_7\">\n      <g>\n       <use style=\"stroke:#000000;stroke-width:0.8;\" x=\"39.65\" xlink:href=\"#m25c92a6336\" y=\"66.397945\"/>\n      </g>\n     </g>\n     <g id=\"text_7\">\n      <!-- 1000 -->\n      <g transform=\"translate(7.2 70.197164)scale(0.1 -0.1)\">\n       <use xlink:href=\"#DejaVuSans-31\"/>\n       <use x=\"63.623047\" xlink:href=\"#DejaVuSans-30\"/>\n       <use x=\"127.246094\" xlink:href=\"#DejaVuSans-30\"/>\n       <use x=\"190.869141\" xlink:href=\"#DejaVuSans-30\"/>\n      </g>\n     </g>\n    </g>\n    <g id=\"ytick_4\">\n     <g id=\"line2d_8\">\n      <g>\n       <use style=\"stroke:#000000;stroke-width:0.8;\" x=\"39.65\" xlink:href=\"#m25c92a6336\" y=\"94.097308\"/>\n      </g>\n     </g>\n     <g id=\"text_8\">\n      <!-- 1500 -->\n      <g transform=\"translate(7.2 97.896527)scale(0.1 -0.1)\">\n       <use xlink:href=\"#DejaVuSans-31\"/>\n       <use x=\"63.623047\" xlink:href=\"#DejaVuSans-35\"/>\n       <use x=\"127.246094\" xlink:href=\"#DejaVuSans-30\"/>\n       <use x=\"190.869141\" xlink:href=\"#DejaVuSans-30\"/>\n      </g>\n     </g>\n    </g>\n    <g id=\"ytick_5\">\n     <g id=\"line2d_9\">\n      <g>\n       <use style=\"stroke:#000000;stroke-width:0.8;\" x=\"39.65\" xlink:href=\"#m25c92a6336\" y=\"121.796671\"/>\n      </g>\n     </g>\n     <g id=\"text_9\">\n      <!-- 2000 -->\n      <g transform=\"translate(7.2 125.59589)scale(0.1 -0.1)\">\n       <use xlink:href=\"#DejaVuSans-32\"/>\n       <use x=\"63.623047\" xlink:href=\"#DejaVuSans-30\"/>\n       <use x=\"127.246094\" xlink:href=\"#DejaVuSans-30\"/>\n       <use x=\"190.869141\" xlink:href=\"#DejaVuSans-30\"/>\n      </g>\n     </g>\n    </g>\n    <g id=\"ytick_6\">\n     <g id=\"line2d_10\">\n      <g>\n       <use style=\"stroke:#000000;stroke-width:0.8;\" x=\"39.65\" xlink:href=\"#m25c92a6336\" y=\"149.496034\"/>\n      </g>\n     </g>\n     <g id=\"text_10\">\n      <!-- 2500 -->\n      <g transform=\"translate(7.2 153.295253)scale(0.1 -0.1)\">\n       <use xlink:href=\"#DejaVuSans-32\"/>\n       <use x=\"63.623047\" xlink:href=\"#DejaVuSans-35\"/>\n       <use x=\"127.246094\" xlink:href=\"#DejaVuSans-30\"/>\n       <use x=\"190.869141\" xlink:href=\"#DejaVuSans-30\"/>\n      </g>\n     </g>\n    </g>\n    <g id=\"ytick_7\">\n     <g id=\"line2d_11\">\n      <g>\n       <use style=\"stroke:#000000;stroke-width:0.8;\" x=\"39.65\" xlink:href=\"#m25c92a6336\" y=\"177.195397\"/>\n      </g>\n     </g>\n     <g id=\"text_11\">\n      <!-- 3000 -->\n      <g transform=\"translate(7.2 180.994616)scale(0.1 -0.1)\">\n       <use xlink:href=\"#DejaVuSans-33\"/>\n       <use x=\"63.623047\" xlink:href=\"#DejaVuSans-30\"/>\n       <use x=\"127.246094\" xlink:href=\"#DejaVuSans-30\"/>\n       <use x=\"190.869141\" xlink:href=\"#DejaVuSans-30\"/>\n      </g>\n     </g>\n    </g>\n    <g id=\"ytick_8\">\n     <g id=\"line2d_12\">\n      <g>\n       <use style=\"stroke:#000000;stroke-width:0.8;\" x=\"39.65\" xlink:href=\"#m25c92a6336\" y=\"204.89476\"/>\n      </g>\n     </g>\n     <g id=\"text_12\">\n      <!-- 3500 -->\n      <g transform=\"translate(7.2 208.693979)scale(0.1 -0.1)\">\n       <use xlink:href=\"#DejaVuSans-33\"/>\n       <use x=\"63.623047\" xlink:href=\"#DejaVuSans-35\"/>\n       <use x=\"127.246094\" xlink:href=\"#DejaVuSans-30\"/>\n       <use x=\"190.869141\" xlink:href=\"#DejaVuSans-30\"/>\n      </g>\n     </g>\n    </g>\n   </g>\n   <g id=\"patch_3\">\n    <path d=\"M 39.65 228.411519 \nL 39.65 10.971519 \n\" style=\"fill:none;stroke:#000000;stroke-linecap:square;stroke-linejoin:miter;stroke-width:0.8;\"/>\n   </g>\n   <g id=\"patch_4\">\n    <path d=\"M 231.107997 228.411519 \nL 231.107997 10.971519 \n\" style=\"fill:none;stroke:#000000;stroke-linecap:square;stroke-linejoin:miter;stroke-width:0.8;\"/>\n   </g>\n   <g id=\"patch_5\">\n    <path d=\"M 39.65 228.411519 \nL 231.107997 228.411519 \n\" style=\"fill:none;stroke:#000000;stroke-linecap:square;stroke-linejoin:miter;stroke-width:0.8;\"/>\n   </g>\n   <g id=\"patch_6\">\n    <path d=\"M 39.65 10.971519 \nL 231.107997 10.971519 \n\" style=\"fill:none;stroke:#000000;stroke-linecap:square;stroke-linejoin:miter;stroke-width:0.8;\"/>\n   </g>\n  </g>\n </g>\n <defs>\n  <clipPath id=\"pb43b103668\">\n   <rect height=\"217.44\" width=\"191.457997\" x=\"39.65\" y=\"10.971519\"/>\n  </clipPath>\n </defs>\n</svg>\n",
      "image/png": "[encoded data removed]"
     },
     "metadata": {
      "needs_background": "light"
     }
    }
   ],
   "metadata": {}
  },
  {
   "cell_type": "code",
   "execution_count": 8,
   "source": [
    "img_pad = cv2.copyMakeBorder(img, 0, 0, 500, 0, cv2.BORDER_CONSTANT, (0,0,0))\n",
    "plt.imshow(img_pad)"
   ],
   "outputs": [
    {
     "output_type": "execute_result",
     "data": {
      "text/plain": [
       "<matplotlib.image.AxesImage at 0x145da9a00>"
      ]
     },
     "metadata": {},
     "execution_count": 8
    },
    {
     "output_type": "display_data",
     "data": {
      "text/plain": [
       "<Figure size 432x288 with 1 Axes>"
      ],
      "image/svg+xml": "<?xml version=\"1.0\" encoding=\"utf-8\" standalone=\"no\"?>\n<!DOCTYPE svg PUBLIC \"-//W3C//DTD SVG 1.1//EN\"\n  \"http://www.w3.org/Graphics/SVG/1.1/DTD/svg11.dtd\">\n<svg height=\"252.289644pt\" version=\"1.1\" viewBox=\"0 0 266.007361 252.289644\" width=\"266.007361pt\" xmlns=\"http://www.w3.org/2000/svg\" xmlns:xlink=\"http://www.w3.org/1999/xlink\">\n <metadata>\n  <rdf:RDF xmlns:cc=\"http://creativecommons.org/ns#\" xmlns:dc=\"http://purl.org/dc/elements/1.1/\" xmlns:rdf=\"http://www.w3.org/1999/02/22-rdf-syntax-ns#\">\n   <cc:Work>\n    <dc:type rdf:resource=\"http://purl.org/dc/dcmitype/StillImage\"/>\n    <dc:date>2021-10-25T22:33:36.020459</dc:date>\n    <dc:format>image/svg+xml</dc:format>\n    <dc:creator>\n     <cc:Agent>\n      <dc:title>Matplotlib v3.4.2, https://matplotlib.org/</dc:title>\n     </cc:Agent>\n    </dc:creator>\n   </cc:Work>\n  </rdf:RDF>\n </metadata>\n <defs>\n  <style type=\"text/css\">*{stroke-linecap:butt;stroke-linejoin:round;}</style>\n </defs>\n <g id=\"figure_1\">\n  <g id=\"patch_1\">\n   <path d=\"M 0 252.289644 \nL 266.007361 252.289644 \nL 266.007361 0 \nL 0 0 \nz\n\" style=\"fill:none;\"/>\n  </g>\n  <g id=\"axes_1\">\n   <g id=\"patch_2\">\n    <path d=\"M 39.65 228.411519 \nL 258.807361 228.411519 \nL 258.807361 10.971519 \nL 39.65 10.971519 \nz\n\" style=\"fill:#ffffff;\"/>\n   </g>\n   <g clip-path=\"url(#pbb45092df2)\">\n    <image height=\"218\" id=\"image9243c36720\" transform=\"scale(1 -1)translate(0 -218)\" width=\"220\" x=\"39.65\" xlink:href=\"data:image/png;base64,\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\" y=\"-10.411519\"/>\n   </g>\n   <g id=\"matplotlib.axis_1\">\n    <g id=\"xtick_1\">\n     <g id=\"line2d_1\">\n      <defs>\n       <path d=\"M 0 0 \nL 0 3.5 \n\" id=\"m0db328d7d1\" style=\"stroke:#000000;stroke-width:0.8;\"/>\n      </defs>\n      <g>\n       <use style=\"stroke:#000000;stroke-width:0.8;\" x=\"39.677699\" xlink:href=\"#m0db328d7d1\" y=\"228.411519\"/>\n      </g>\n     </g>\n     <g id=\"text_1\">\n      <!-- 0 -->\n      <g transform=\"translate(36.496449 243.009957)scale(0.1 -0.1)\">\n       <defs>\n        <path d=\"M 2034 4250 \nQ 1547 4250 1301 3770 \nQ 1056 3291 1056 2328 \nQ 1056 1369 1301 889 \nQ 1547 409 2034 409 \nQ 2525 409 2770 889 \nQ 3016 1369 3016 2328 \nQ 3016 3291 2770 3770 \nQ 2525 4250 2034 4250 \nz\nM 2034 4750 \nQ 2819 4750 3233 4129 \nQ 3647 3509 3647 2328 \nQ 3647 1150 3233 529 \nQ 2819 -91 2034 -91 \nQ 1250 -91 836 529 \nQ 422 1150 422 2328 \nQ 422 3509 836 4129 \nQ 1250 4750 2034 4750 \nz\n\" id=\"DejaVuSans-30\" transform=\"scale(0.015625)\"/>\n       </defs>\n       <use xlink:href=\"#DejaVuSans-30\"/>\n      </g>\n     </g>\n    </g>\n    <g id=\"xtick_2\">\n     <g id=\"line2d_2\">\n      <g>\n       <use style=\"stroke:#000000;stroke-width:0.8;\" x=\"95.076425\" xlink:href=\"#m0db328d7d1\" y=\"228.411519\"/>\n      </g>\n     </g>\n     <g id=\"text_2\">\n      <!-- 1000 -->\n      <g transform=\"translate(82.351425 243.009957)scale(0.1 -0.1)\">\n       <defs>\n        <path d=\"M 794 531 \nL 1825 531 \nL 1825 4091 \nL 703 3866 \nL 703 4441 \nL 1819 4666 \nL 2450 4666 \nL 2450 531 \nL 3481 531 \nL 3481 0 \nL 794 0 \nL 794 531 \nz\n\" id=\"DejaVuSans-31\" transform=\"scale(0.015625)\"/>\n       </defs>\n       <use xlink:href=\"#DejaVuSans-31\"/>\n       <use x=\"63.623047\" xlink:href=\"#DejaVuSans-30\"/>\n       <use x=\"127.246094\" xlink:href=\"#DejaVuSans-30\"/>\n       <use x=\"190.869141\" xlink:href=\"#DejaVuSans-30\"/>\n      </g>\n     </g>\n    </g>\n    <g id=\"xtick_3\">\n     <g id=\"line2d_3\">\n      <g>\n       <use style=\"stroke:#000000;stroke-width:0.8;\" x=\"150.475152\" xlink:href=\"#m0db328d7d1\" y=\"228.411519\"/>\n      </g>\n     </g>\n     <g id=\"text_3\">\n      <!-- 2000 -->\n      <g transform=\"translate(137.750152 243.009957)scale(0.1 -0.1)\">\n       <defs>\n        <path d=\"M 1228 531 \nL 3431 531 \nL 3431 0 \nL 469 0 \nL 469 531 \nQ 828 903 1448 1529 \nQ 2069 2156 2228 2338 \nQ 2531 2678 2651 2914 \nQ 2772 3150 2772 3378 \nQ 2772 3750 2511 3984 \nQ 2250 4219 1831 4219 \nQ 1534 4219 1204 4116 \nQ 875 4013 500 3803 \nL 500 4441 \nQ 881 4594 1212 4672 \nQ 1544 4750 1819 4750 \nQ 2544 4750 2975 4387 \nQ 3406 4025 3406 3419 \nQ 3406 3131 3298 2873 \nQ 3191 2616 2906 2266 \nQ 2828 2175 2409 1742 \nQ 1991 1309 1228 531 \nz\n\" id=\"DejaVuSans-32\" transform=\"scale(0.015625)\"/>\n       </defs>\n       <use xlink:href=\"#DejaVuSans-32\"/>\n       <use x=\"63.623047\" xlink:href=\"#DejaVuSans-30\"/>\n       <use x=\"127.246094\" xlink:href=\"#DejaVuSans-30\"/>\n       <use x=\"190.869141\" xlink:href=\"#DejaVuSans-30\"/>\n      </g>\n     </g>\n    </g>\n    <g id=\"xtick_4\">\n     <g id=\"line2d_4\">\n      <g>\n       <use style=\"stroke:#000000;stroke-width:0.8;\" x=\"205.873878\" xlink:href=\"#m0db328d7d1\" y=\"228.411519\"/>\n      </g>\n     </g>\n     <g id=\"text_4\">\n      <!-- 3000 -->\n      <g transform=\"translate(193.148878 243.009957)scale(0.1 -0.1)\">\n       <defs>\n        <path d=\"M 2597 2516 \nQ 3050 2419 3304 2112 \nQ 3559 1806 3559 1356 \nQ 3559 666 3084 287 \nQ 2609 -91 1734 -91 \nQ 1441 -91 1130 -33 \nQ 819 25 488 141 \nL 488 750 \nQ 750 597 1062 519 \nQ 1375 441 1716 441 \nQ 2309 441 2620 675 \nQ 2931 909 2931 1356 \nQ 2931 1769 2642 2001 \nQ 2353 2234 1838 2234 \nL 1294 2234 \nL 1294 2753 \nL 1863 2753 \nQ 2328 2753 2575 2939 \nQ 2822 3125 2822 3475 \nQ 2822 3834 2567 4026 \nQ 2313 4219 1838 4219 \nQ 1578 4219 1281 4162 \nQ 984 4106 628 3988 \nL 628 4550 \nQ 988 4650 1302 4700 \nQ 1616 4750 1894 4750 \nQ 2613 4750 3031 4423 \nQ 3450 4097 3450 3541 \nQ 3450 3153 3228 2886 \nQ 3006 2619 2597 2516 \nz\n\" id=\"DejaVuSans-33\" transform=\"scale(0.015625)\"/>\n       </defs>\n       <use xlink:href=\"#DejaVuSans-33\"/>\n       <use x=\"63.623047\" xlink:href=\"#DejaVuSans-30\"/>\n       <use x=\"127.246094\" xlink:href=\"#DejaVuSans-30\"/>\n       <use x=\"190.869141\" xlink:href=\"#DejaVuSans-30\"/>\n      </g>\n     </g>\n    </g>\n   </g>\n   <g id=\"matplotlib.axis_2\">\n    <g id=\"ytick_1\">\n     <g id=\"line2d_5\">\n      <defs>\n       <path d=\"M 0 0 \nL -3.5 0 \n\" id=\"m4c09b16ab1\" style=\"stroke:#000000;stroke-width:0.8;\"/>\n      </defs>\n      <g>\n       <use style=\"stroke:#000000;stroke-width:0.8;\" x=\"39.65\" xlink:href=\"#m4c09b16ab1\" y=\"10.999219\"/>\n      </g>\n     </g>\n     <g id=\"text_5\">\n      <!-- 0 -->\n      <g transform=\"translate(26.2875 14.798437)scale(0.1 -0.1)\">\n       <use xlink:href=\"#DejaVuSans-30\"/>\n      </g>\n     </g>\n    </g>\n    <g id=\"ytick_2\">\n     <g id=\"line2d_6\">\n      <g>\n       <use style=\"stroke:#000000;stroke-width:0.8;\" x=\"39.65\" xlink:href=\"#m4c09b16ab1\" y=\"38.698582\"/>\n      </g>\n     </g>\n     <g id=\"text_6\">\n      <!-- 500 -->\n      <g transform=\"translate(13.5625 42.497801)scale(0.1 -0.1)\">\n       <defs>\n        <path d=\"M 691 4666 \nL 3169 4666 \nL 3169 4134 \nL 1269 4134 \nL 1269 2991 \nQ 1406 3038 1543 3061 \nQ 1681 3084 1819 3084 \nQ 2600 3084 3056 2656 \nQ 3513 2228 3513 1497 \nQ 3513 744 3044 326 \nQ 2575 -91 1722 -91 \nQ 1428 -91 1123 -41 \nQ 819 9 494 109 \nL 494 744 \nQ 775 591 1075 516 \nQ 1375 441 1709 441 \nQ 2250 441 2565 725 \nQ 2881 1009 2881 1497 \nQ 2881 1984 2565 2268 \nQ 2250 2553 1709 2553 \nQ 1456 2553 1204 2497 \nQ 953 2441 691 2322 \nL 691 4666 \nz\n\" id=\"DejaVuSans-35\" transform=\"scale(0.015625)\"/>\n       </defs>\n       <use xlink:href=\"#DejaVuSans-35\"/>\n       <use x=\"63.623047\" xlink:href=\"#DejaVuSans-30\"/>\n       <use x=\"127.246094\" xlink:href=\"#DejaVuSans-30\"/>\n      </g>\n     </g>\n    </g>\n    <g id=\"ytick_3\">\n     <g id=\"line2d_7\">\n      <g>\n       <use style=\"stroke:#000000;stroke-width:0.8;\" x=\"39.65\" xlink:href=\"#m4c09b16ab1\" y=\"66.397945\"/>\n      </g>\n     </g>\n     <g id=\"text_7\">\n      <!-- 1000 -->\n      <g transform=\"translate(7.2 70.197164)scale(0.1 -0.1)\">\n       <use xlink:href=\"#DejaVuSans-31\"/>\n       <use x=\"63.623047\" xlink:href=\"#DejaVuSans-30\"/>\n       <use x=\"127.246094\" xlink:href=\"#DejaVuSans-30\"/>\n       <use x=\"190.869141\" xlink:href=\"#DejaVuSans-30\"/>\n      </g>\n     </g>\n    </g>\n    <g id=\"ytick_4\">\n     <g id=\"line2d_8\">\n      <g>\n       <use style=\"stroke:#000000;stroke-width:0.8;\" x=\"39.65\" xlink:href=\"#m4c09b16ab1\" y=\"94.097308\"/>\n      </g>\n     </g>\n     <g id=\"text_8\">\n      <!-- 1500 -->\n      <g transform=\"translate(7.2 97.896527)scale(0.1 -0.1)\">\n       <use xlink:href=\"#DejaVuSans-31\"/>\n       <use x=\"63.623047\" xlink:href=\"#DejaVuSans-35\"/>\n       <use x=\"127.246094\" xlink:href=\"#DejaVuSans-30\"/>\n       <use x=\"190.869141\" xlink:href=\"#DejaVuSans-30\"/>\n      </g>\n     </g>\n    </g>\n    <g id=\"ytick_5\">\n     <g id=\"line2d_9\">\n      <g>\n       <use style=\"stroke:#000000;stroke-width:0.8;\" x=\"39.65\" xlink:href=\"#m4c09b16ab1\" y=\"121.796671\"/>\n      </g>\n     </g>\n     <g id=\"text_9\">\n      <!-- 2000 -->\n      <g transform=\"translate(7.2 125.59589)scale(0.1 -0.1)\">\n       <use xlink:href=\"#DejaVuSans-32\"/>\n       <use x=\"63.623047\" xlink:href=\"#DejaVuSans-30\"/>\n       <use x=\"127.246094\" xlink:href=\"#DejaVuSans-30\"/>\n       <use x=\"190.869141\" xlink:href=\"#DejaVuSans-30\"/>\n      </g>\n     </g>\n    </g>\n    <g id=\"ytick_6\">\n     <g id=\"line2d_10\">\n      <g>\n       <use style=\"stroke:#000000;stroke-width:0.8;\" x=\"39.65\" xlink:href=\"#m4c09b16ab1\" y=\"149.496034\"/>\n      </g>\n     </g>\n     <g id=\"text_10\">\n      <!-- 2500 -->\n      <g transform=\"translate(7.2 153.295253)scale(0.1 -0.1)\">\n       <use xlink:href=\"#DejaVuSans-32\"/>\n       <use x=\"63.623047\" xlink:href=\"#DejaVuSans-35\"/>\n       <use x=\"127.246094\" xlink:href=\"#DejaVuSans-30\"/>\n       <use x=\"190.869141\" xlink:href=\"#DejaVuSans-30\"/>\n      </g>\n     </g>\n    </g>\n    <g id=\"ytick_7\">\n     <g id=\"line2d_11\">\n      <g>\n       <use style=\"stroke:#000000;stroke-width:0.8;\" x=\"39.65\" xlink:href=\"#m4c09b16ab1\" y=\"177.195397\"/>\n      </g>\n     </g>\n     <g id=\"text_11\">\n      <!-- 3000 -->\n      <g transform=\"translate(7.2 180.994616)scale(0.1 -0.1)\">\n       <use xlink:href=\"#DejaVuSans-33\"/>\n       <use x=\"63.623047\" xlink:href=\"#DejaVuSans-30\"/>\n       <use x=\"127.246094\" xlink:href=\"#DejaVuSans-30\"/>\n       <use x=\"190.869141\" xlink:href=\"#DejaVuSans-30\"/>\n      </g>\n     </g>\n    </g>\n    <g id=\"ytick_8\">\n     <g id=\"line2d_12\">\n      <g>\n       <use style=\"stroke:#000000;stroke-width:0.8;\" x=\"39.65\" xlink:href=\"#m4c09b16ab1\" y=\"204.89476\"/>\n      </g>\n     </g>\n     <g id=\"text_12\">\n      <!-- 3500 -->\n      <g transform=\"translate(7.2 208.693979)scale(0.1 -0.1)\">\n       <use xlink:href=\"#DejaVuSans-33\"/>\n       <use x=\"63.623047\" xlink:href=\"#DejaVuSans-35\"/>\n       <use x=\"127.246094\" xlink:href=\"#DejaVuSans-30\"/>\n       <use x=\"190.869141\" xlink:href=\"#DejaVuSans-30\"/>\n      </g>\n     </g>\n    </g>\n   </g>\n   <g id=\"patch_3\">\n    <path d=\"M 39.65 228.411519 \nL 39.65 10.971519 \n\" style=\"fill:none;stroke:#000000;stroke-linecap:square;stroke-linejoin:miter;stroke-width:0.8;\"/>\n   </g>\n   <g id=\"patch_4\">\n    <path d=\"M 258.807361 228.411519 \nL 258.807361 10.971519 \n\" style=\"fill:none;stroke:#000000;stroke-linecap:square;stroke-linejoin:miter;stroke-width:0.8;\"/>\n   </g>\n   <g id=\"patch_5\">\n    <path d=\"M 39.65 228.411519 \nL 258.807361 228.411519 \n\" style=\"fill:none;stroke:#000000;stroke-linecap:square;stroke-linejoin:miter;stroke-width:0.8;\"/>\n   </g>\n   <g id=\"patch_6\">\n    <path d=\"M 39.65 10.971519 \nL 258.807361 10.971519 \n\" style=\"fill:none;stroke:#000000;stroke-linecap:square;stroke-linejoin:miter;stroke-width:0.8;\"/>\n   </g>\n  </g>\n </g>\n <defs>\n  <clipPath id=\"pbb45092df2\">\n   <rect height=\"217.44\" width=\"219.157361\" x=\"39.65\" y=\"10.971519\"/>\n  </clipPath>\n </defs>\n</svg>\n",
      "image/png": "[encoded data removed]"
     },
     "metadata": {
      "needs_background": "light"
     }
    }
   ],
   "metadata": {}
  },
  {
   "cell_type": "code",
   "execution_count": null,
   "source": [],
   "outputs": [],
   "metadata": {}
  },
  {
   "cell_type": "code",
   "execution_count": null,
   "source": [],
   "outputs": [],
   "metadata": {}
  },
  {
   "cell_type": "code",
   "execution_count": null,
   "source": [],
   "outputs": [],
   "metadata": {}
  }
 ],
 "metadata": {
  "orig_nbformat": 4,
  "language_info": {
   "name": "python",
   "version": "3.9.6",
   "mimetype": "text/x-python",
   "codemirror_mode": {
    "name": "ipython",
    "version": 3
   },
   "pygments_lexer": "ipython3",
   "nbconvert_exporter": "python",
   "file_extension": ".py"
  },
  "kernelspec": {
   "name": "python3",
   "display_name": "Python 3.9.6 64-bit ('base': conda)"
  },
  "interpreter": {
   "hash": "95ec9ec1504d83f612128e0fb229072f90bbb4cb09d9d5d93b5dd26e0ca2cfd1"
  }
 },
 "nbformat": 4,
 "nbformat_minor": 2
}